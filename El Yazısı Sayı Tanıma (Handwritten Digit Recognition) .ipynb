{
 "cells": [
  {
   "cell_type": "code",
   "execution_count": 1,
   "id": "973f2cbd-37ef-43a1-a6df-de45dce1e388",
   "metadata": {},
   "outputs": [
    {
     "data": {
      "image/png": "[encoded data removed]",
      "text/plain": [
       "<Figure size 640x480 with 1 Axes>"
      ]
     },
     "metadata": {},
     "output_type": "display_data"
    }
   ],
   "source": [
    "# Gerekli kütüphaneler\n",
    "import pandas as pd\n",
    "import numpy as np\n",
    "from sklearn.model_selection import train_test_split\n",
    "from tensorflow.keras.utils import to_categorical\n",
    "import matplotlib.pyplot as plt\n",
    "\n",
    "# CSV dosyasını yükle\n",
    "df = pd.read_csv(\"train.csv\")\n",
    "\n",
    "# Özellikler ve etiketler\n",
    "X = df.drop(\"label\", axis=1).values\n",
    "y = df[\"label\"].values\n",
    "\n",
    "# Normalizasyon: 0-255 → 0-1\n",
    "X = X / 255.0\n",
    "\n",
    "# Görselleri 28x28x1 formatına getir\n",
    "X = X.reshape(-1, 28, 28, 1)\n",
    "\n",
    "# Etiketleri one-hot encode et\n",
    "y = to_categorical(y, num_classes=10)\n",
    "\n",
    "# Eğitim ve test bölme\n",
    "X_train, X_test, y_train, y_test = train_test_split(X, y, test_size=0.2, random_state=42)\n",
    "\n",
    "# Kontrol: örnek görüntü göster\n",
    "plt.imshow(X_train[0].reshape(28, 28), cmap=\"gray\")\n",
    "plt.title(f\"Etiket: {np.argmax(y_train[0])}\")\n",
    "plt.axis(\"off\")\n",
    "plt.show()\n"
   ]
  },
  {
   "cell_type": "raw",
   "id": "2b2071f5-5d61-4683-b930-f79f38789c8c",
   "metadata": {},
   "source": [
    "train.csv dosyasından veriyi yükler\n",
    "\n",
    "Görselleri 28x28 boyutuna sokar\n",
    "\n",
    "One-hot encoding ve eğitim/test ayrımı yapar\n",
    "\n",
    "Bir görsel örnek gösterir\n",
    "\n"
   ]
  },
  {
   "cell_type": "code",
   "execution_count": 11,
   "id": "60ea13da-677c-44cf-a6fa-7982253a8641",
   "metadata": {},
   "outputs": [
    {
     "name": "stdout",
     "output_type": "stream",
     "text": [
      "Epoch 1/5\n"
     ]
    },
    {
     "name": "stderr",
     "output_type": "stream",
     "text": [
      "C:\\ProgramData\\anaconda3\\Lib\\site-packages\\keras\\src\\layers\\convolutional\\base_conv.py:113: UserWarning: Do not pass an `input_shape`/`input_dim` argument to a layer. When using Sequential models, prefer using an `Input(shape)` object as the first layer in the model instead.\n",
      "  super().__init__(activity_regularizer=activity_regularizer, **kwargs)\n"
     ]
    },
    {
     "name": "stdout",
     "output_type": "stream",
     "text": [
      "\u001b[1m1050/1050\u001b[0m \u001b[32m━━━━━━━━━━━━━━━━━━━━\u001b[0m\u001b[37m\u001b[0m \u001b[1m10s\u001b[0m 8ms/step - accuracy: 0.8164 - loss: 0.5694 - val_accuracy: 0.9756 - val_loss: 0.0745\n",
      "Epoch 2/5\n",
      "\u001b[1m1050/1050\u001b[0m \u001b[32m━━━━━━━━━━━━━━━━━━━━\u001b[0m\u001b[37m\u001b[0m \u001b[1m8s\u001b[0m 8ms/step - accuracy: 0.9668 - loss: 0.1110 - val_accuracy: 0.9844 - val_loss: 0.0518\n",
      "Epoch 3/5\n",
      "\u001b[1m1050/1050\u001b[0m \u001b[32m━━━━━━━━━━━━━━━━━━━━\u001b[0m\u001b[37m\u001b[0m \u001b[1m8s\u001b[0m 8ms/step - accuracy: 0.9762 - loss: 0.0772 - val_accuracy: 0.9874 - val_loss: 0.0447\n",
      "Epoch 4/5\n",
      "\u001b[1m1050/1050\u001b[0m \u001b[32m━━━━━━━━━━━━━━━━━━━━\u001b[0m\u001b[37m\u001b[0m \u001b[1m8s\u001b[0m 8ms/step - accuracy: 0.9819 - loss: 0.0625 - val_accuracy: 0.9870 - val_loss: 0.0397\n",
      "Epoch 5/5\n",
      "\u001b[1m1050/1050\u001b[0m \u001b[32m━━━━━━━━━━━━━━━━━━━━\u001b[0m\u001b[37m\u001b[0m \u001b[1m9s\u001b[0m 8ms/step - accuracy: 0.9848 - loss: 0.0495 - val_accuracy: 0.9861 - val_loss: 0.0419\n"
     ]
    }
   ],
   "source": [
    "from keras.models import Sequential\n",
    "from keras.layers import Conv2D, MaxPooling2D, Flatten, Dense, Dropout\n",
    "\n",
    "# (model kodunu oluştur)\n",
    "model = Sequential([\n",
    "    Conv2D(32, (3, 3), activation='relu', input_shape=(28, 28, 1)),\n",
    "    MaxPooling2D(2, 2),\n",
    "    Conv2D(64, (3, 3), activation='relu'),\n",
    "    MaxPooling2D(2, 2),\n",
    "    Flatten(),\n",
    "    Dense(128, activation='relu'),\n",
    "    Dropout(0.5),\n",
    "    Dense(10, activation='softmax')\n",
    "])\n",
    "\n",
    "# Tekrar derle\n",
    "model.compile(optimizer='adam', loss='categorical_crossentropy', metrics=['accuracy'])\n",
    "\n",
    "# Eğitim\n",
    "model.fit(X_train, y_train, epochs=5, validation_data=(X_test, y_test))\n",
    "\n",
    "# ✅ En güncel formatla kaydet\n",
    "model.save(\"digit_model.keras\", overwrite=True)\n"
   ]
  },
  {
   "cell_type": "raw",
   "id": "dfe4accd-9d82-4c8f-8a2c-553c37288dd6",
   "metadata": {},
   "source": [
    "CNN 10 epoch boyunca veriye bakacak\n",
    "\n",
    "Eğitim ve doğrulama doğruluğu (accuracy) yazdırılacak\n",
    "\n",
    "Model 0-9 arası rakamları tanımayı öğrenecek"
   ]
  },
  {
   "cell_type": "code",
   "execution_count": 4,
   "id": "b304b5ef-9170-4dca-a1cf-a768f73ef16c",
   "metadata": {},
   "outputs": [
    {
     "name": "stdout",
     "output_type": "stream",
     "text": [
      "\u001b[1m1/1\u001b[0m \u001b[32m━━━━━━━━━━━━━━━━━━━━\u001b[0m\u001b[37m\u001b[0m \u001b[1m0s\u001b[0m 87ms/step\n"
     ]
    },
    {
     "data": {
      "image/png": "[encoded data removed]",
      "text/plain": [
       "<Figure size 640x480 with 1 Axes>"
      ]
     },
     "metadata": {},
     "output_type": "display_data"
    }
   ],
   "source": [
    "import numpy as np\n",
    "import matplotlib.pyplot as plt\n",
    "\n",
    "# Test setinden bir örnek al\n",
    "index = 0\n",
    "sample = X_test[index]\n",
    "true_label = np.argmax(y_test[index])\n",
    "\n",
    "# Model tahmini\n",
    "prediction = model.predict(np.expand_dims(sample, axis=0))\n",
    "predicted_label = np.argmax(prediction)\n",
    "\n",
    "# Görsel ve sonuç\n",
    "plt.imshow(sample.reshape(28, 28), cmap='gray')\n",
    "plt.title(f\"Gerçek: {true_label} / Tahmin: {predicted_label}\")\n",
    "plt.axis(\"off\")\n",
    "plt.show()\n"
   ]
  },
  {
   "cell_type": "code",
   "execution_count": null,
   "id": "dd480947-dc14-4dc7-9541-c30ca82701eb",
   "metadata": {},
   "outputs": [],
   "source": []
  }
 ],
 "metadata": {
  "kernelspec": {
   "display_name": "Python 3 (ipykernel)",
   "language": "python",
   "name": "python3"
  },
  "language_info": {
   "codemirror_mode": {
    "name": "ipython",
    "version": 3
   },
   "file_extension": ".py",
   "mimetype": "text/x-python",
   "name": "python",
   "nbconvert_exporter": "python",
   "pygments_lexer": "ipython3",
   "version": "3.12.9"
  }
 },
 "nbformat": 4,
 "nbformat_minor": 5
}
